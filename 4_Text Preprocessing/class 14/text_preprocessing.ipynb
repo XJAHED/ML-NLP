{
 "cells": [
  {
   "cell_type": "markdown",
   "id": "a7809a23",
   "metadata": {},
   "source": [
    "Segmentation"
   ]
  },
  {
   "cell_type": "code",
   "execution_count": null,
   "id": "593bd272",
   "metadata": {},
   "outputs": [],
   "source": [
    "import nltk\n",
    "from nltk.tokenize import sent_tokenize\n",
    "nltk.download('punkt_tab')\n",
    "\n",
    "text = \"Hello world. This is a test. Let's see how it works.\"\n",
    "sentences = sent_tokenize(text)\n",
    "print(sentences)\n",
    "\n",
    "for i, sentences in enumerate(sentences):\n",
    "    print(f\"sentence {i+1}: {sentences}\")"
   ]
  },
  {
   "cell_type": "markdown",
   "id": "b5455c27",
   "metadata": {},
   "source": [
    "punc and special char removal"
   ]
  },
  {
   "cell_type": "code",
   "execution_count": null,
   "id": "c2ddd702",
   "metadata": {},
   "outputs": [],
   "source": [
    "import re\n",
    "from nltk.tokenize import word_tokenize\n",
    "text = \"Hello, world! This is a test. Let's see how it works. check this: https://example.com. Email me at! #ex\"\n",
    "# url_pattern = r'http[s]?://[a-zA-Z]|[0-9]|[$-_.+!*\\'(),]'\n",
    "url_pattern = r'http[s]?://[a-zA-Z0-9$-_.+!*\\'(),]+'\n",
    "panctuation_pattern = r'[^\\w\\s]'\n",
    "\n",
    "text =  re.sub(url_pattern, '', text)\n",
    "text = re.sub(panctuation_pattern, '', text)\n",
    "\n",
    "tokenize = word_tokenize(text)\n",
    "\n",
    "print(\"tokenize: \", tokenize)\n",
    "print(text)"
   ]
  },
  {
   "cell_type": "markdown",
   "id": "b72ce4dd",
   "metadata": {},
   "source": [
    "lowercasing"
   ]
  },
  {
   "cell_type": "code",
   "execution_count": null,
   "id": "51b61211",
   "metadata": {},
   "outputs": [],
   "source": [
    "import re\n",
    "from nltk.tokenize import word_tokenize\n",
    "text = \"Hello, world! This is a test. Let's see how it works. check this: https://example.com. Email me at! #ex\"\n",
    "url_pattern = r'http[s]?://[a-zA-Z0-9$-_.+!*\\'(),]+'\n",
    "panctuation_pattern = r'[^\\w\\s]'\n",
    "\n",
    "text =  re.sub(url_pattern, '', text)\n",
    "text = re.sub(panctuation_pattern, '', text)\n",
    "\n",
    "lowercasing = text.lower()\n",
    "uppercasing = text.upper()\n",
    "print(\"Lowercased text: \", lowercasing)\n",
    "print(\"Uppercased text: \", uppercasing)"
   ]
  },
  {
   "cell_type": "markdown",
   "id": "c0723a2e",
   "metadata": {},
   "source": [
    "POS tagging"
   ]
  },
  {
   "cell_type": "code",
   "execution_count": null,
   "id": "e4a78b7b",
   "metadata": {},
   "outputs": [],
   "source": [
    "from nltk import pos_tag\n",
    "# nltk.download('averaged_perceptron_tagger_eng')\n",
    "from nltk.tokenize import word_tokenize\n",
    "\n",
    "text = \"Hello, world! This is a test. Let's see how it works.\"\n",
    "tokenize = word_tokenize(text)\n",
    "print(\"tokenize: \", tokenize)\n",
    "\n",
    "pos_tags = pos_tag(tokenize)\n",
    "print(\"POS tags: \", pos_tags)"
   ]
  },
  {
   "cell_type": "markdown",
   "id": "8b9c65c8",
   "metadata": {},
   "source": [
    "stopwords removal"
   ]
  },
  {
   "cell_type": "code",
   "execution_count": null,
   "id": "be949ff3",
   "metadata": {},
   "outputs": [],
   "source": [
    "from nltk.corpus import stopwords\n",
    "nltk.download('stopwords')\n",
    "\n",
    "text = \"Hello, world! This is a test. Let's see how it works.\"\n",
    "tokenize = word_tokenize(text)\n",
    "print(\"tokenize: \", tokenize)\n",
    "\n",
    "stopwords = set(stopwords.words('english'))\n",
    "filtered_words = [word for word in tokenize if word.lower() not in stopwords]\n",
    "print(\"Filtered words: \", filtered_words)"
   ]
  },
  {
   "cell_type": "markdown",
   "id": "b8ba3a35",
   "metadata": {},
   "source": [
    "text_normalization plus S and L"
   ]
  },
  {
   "cell_type": "code",
   "execution_count": null,
   "id": "b7acb06d",
   "metadata": {},
   "outputs": [],
   "source": [
    "import re\n",
    "\n",
    "text = \"I loooveeeee programmingggggg!!! Do you luv it too?\"\n",
    "def normalize(text):\n",
    "    text = re.sub(r'(.)\\1+', r'\\1', text)\n",
    "    text = re.sub(r'\\bluv\\b', 'love', text)\n",
    "    return text\n",
    "\n",
    "normalized_text = normalize(text)\n",
    "print(\"Normalized text: \", normalized_text)"
   ]
  },
  {
   "cell_type": "code",
   "execution_count": null,
   "id": "a05c2392",
   "metadata": {},
   "outputs": [],
   "source": [
    "from nltk.stem import PorterStemmer\n",
    "\n",
    "text = \"running runs ran easily\"\n",
    "tokenize = word_tokenize(text)\n",
    "print(\"tokenize: \", tokenize)\n",
    "\n",
    "stemmer = PorterStemmer()\n",
    "stemmer_token = [stemmer.stem(word) for word in tokenize]\n",
    "print(\"Stemmed words: \", stemmer_token)"
   ]
  },
  {
   "cell_type": "code",
   "execution_count": 1,
   "id": "96af1a72",
   "metadata": {},
   "outputs": [
    {
     "name": "stdout",
     "output_type": "stream",
     "text": [
      "Lemmatized words:  ['hello', ',', 'world', '!', 'this', 'be', 'a', 'test', '.', 'let', 'us', 'see', 'how', 'it', 'work', '.']\n"
     ]
    }
   ],
   "source": [
    "import spacy\n",
    "nlp = spacy.load(\"en_core_web_sm\")\n",
    "text = \"Hello, world! This is a test. Let's see how it works.\"\n",
    "iematized= [token.lemma_ for token in nlp(text)]\n",
    "print(\"Lemmatized words: \", iematized)"
   ]
  },
  {
   "cell_type": "code",
   "execution_count": null,
   "id": "a1604bdb",
   "metadata": {},
   "outputs": [],
   "source": [
    "import spacy\n",
    "print(spacy.__version__)"
   ]
  }
 ],
 "metadata": {
  "kernelspec": {
   "display_name": "Python 3",
   "language": "python",
   "name": "python3"
  },
  "language_info": {
   "codemirror_mode": {
    "name": "ipython",
    "version": 3
   },
   "file_extension": ".py",
   "mimetype": "text/x-python",
   "name": "python",
   "nbconvert_exporter": "python",
   "pygments_lexer": "ipython3",
   "version": "3.13.3"
  }
 },
 "nbformat": 4,
 "nbformat_minor": 5
}
